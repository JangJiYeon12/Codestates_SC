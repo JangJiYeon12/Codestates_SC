{
 "cells": [
  {
   "cell_type": "markdown",
   "id": "49204e56",
   "metadata": {},
   "source": [
    "# 확인하세요!\n",
    "\n",
    "### 제출 전에 모든 코드가 순차적으로 잘 작동하는지 확인하세요. \n",
    "- **커널을 다시 시작**한 다음(메뉴바에서 Kernel$\\rightarrow$Restart 선택) **모든 셀을 실행**해 보세요(메뉴바에서 Cell$\\rightarrow$Run All 선택).\n",
    "\n",
    "### 지정 셀의 지정 영역에서만 코드를 작성했는지 확인하세요.\n",
    "- `YOUR CODE HERE`이 적혀 있는 셀에 대한 코드만 채점에 반영됩니다.\n",
    "- `YOUR CODE HERE` ~ `YOUR CODE ENDS HERE` 사이에 본인의 코드를 작성하세요.\n",
    "- 지정 셀 이외에 본인이 코드 실행 결과를 확인하기 위한 용도로 셀을 추가해도 됩니다.\n",
    "    - **제출 시 지정 셀에서는 정답 이외에 결과 확인을 위한 코드 등은 제거하고 제출해 주세요!**\n",
    "    - **기존 셀을 삭제하지 마세요! 채점에 불이익이 있을 수 있습니다.**\n",
    "\n",
    "### 제출 방법\n",
    "- 시간 내에 문제를 풀고, 본인의 github repo에 push 하세요.\n",
    "    - **디렉토리 구조가 변하면 안 됩니다.** `codestates/ds-sc2xx`와 디렉토리 구조가 동일해야 합니다. 답안 파일의 이름을 변경하지 않았는지, 기존에 없던 폴더가 추가되지 않았는지 등을 확인하세요.\n",
    "    - **코드스테이츠 가입 시 연동한 github 계정을 사용해야 합니다.**\n",
    "    - **branch를 변경하여 작업하지 마세요.**\n",
    "        - `master` branch에의 제출 사항에 대해서만 평가합니다.\n",
    "        - 본인의 github repo `master` branch에 제출이 잘 되어 있는지 확인하세요."
   ]
  },
  {
   "cell_type": "markdown",
   "id": "5cec9d18",
   "metadata": {},
   "source": [
    "---"
   ]
  },
  {
   "cell_type": "markdown",
   "id": "6f4f7cc5",
   "metadata": {
    "deletable": false,
    "editable": false,
    "nbgrader": {
     "cell_type": "markdown",
     "checksum": "cf46d5569d9abbc5bd627a763dfcdf8f",
     "grade": false,
     "grade_id": "cell-5b7fa4769535997c",
     "locked": true,
     "schema_version": 3,
     "solution": false,
     "task": false
    }
   },
   "source": [
    "# SC22x\n",
    " "
   ]
  },
  {
   "cell_type": "markdown",
   "id": "6b9c8083",
   "metadata": {
    "deletable": false,
    "editable": false,
    "nbgrader": {
     "cell_type": "markdown",
     "checksum": "bdc0145596fe2a567065d26e36cdc30e",
     "grade": false,
     "grade_id": "cell-f75742bcbc000238",
     "locked": true,
     "schema_version": 3,
     "solution": false,
     "task": false
    }
   },
   "source": [
    "# Part 3 - Confusion Matrix\n"
   ]
  },
  {
   "cell_type": "markdown",
   "id": "ac54cd66",
   "metadata": {
    "deletable": false,
    "editable": false,
    "nbgrader": {
     "cell_type": "markdown",
     "checksum": "dd87e482b11385916ff95502caa5605b",
     "grade": false,
     "grade_id": "cell-ef9a7f73c3782e7d",
     "locked": true,
     "schema_version": 3,
     "solution": false,
     "task": false
    }
   },
   "source": [
    "## 3.1 Confusion Matrix 계산\n",
    "- sklearn 라이브러리를 사용하지 않고, 이진분류 모델의 y_pred, y_real로부터 TP, TN, FP, FN의 수를 구하는 `confusion_matrix` 함수를 작성하세요.\n",
    "- y_pred, y_real은 길이($\\ge2$)가 동일하고 값이 0 또는 1인 리스트입니다.\n",
    "- 1을 Positive, 0을 Negative로 가정합니다."
   ]
  },
  {
   "cell_type": "code",
   "execution_count": null,
   "id": "afd3c6b3",
   "metadata": {
    "deletable": false,
    "nbgrader": {
     "cell_type": "code",
     "checksum": "1364cf18a0b97a9b5a69896837429b1e",
     "grade": false,
     "grade_id": "3-1",
     "locked": false,
     "schema_version": 3,
     "solution": true,
     "task": false
    }
   },
   "outputs": [],
   "source": [
    "import numpy as np\n",
    "\n",
    "def confusion_matrix(y_pred, y_real):\n",
    "    tp, tn, fp, fn = -1, -1, -1, -1\n",
    "    \n",
    "    tp = sum((y_pred == 1) & (y_real == 1))\n",
    "    # YOUR CODE HERE\n",
    "    \n",
    "    \n",
    "    # YOUR CODE ENDS HERE\n",
    "    \n",
    "    return tp, tn, fp, fn"
   ]
  },
  {
   "cell_type": "code",
   "execution_count": null,
   "id": "e758c132",
   "metadata": {
    "deletable": false,
    "editable": false,
    "nbgrader": {
     "cell_type": "code",
     "checksum": "cbd808c96379067be7897069eb7b211a",
     "grade": true,
     "grade_id": "3-1_test",
     "locked": true,
     "points": 1,
     "schema_version": 3,
     "solution": false,
     "task": false
    }
   },
   "outputs": [],
   "source": [
    "y_pred = np.array([0, 1, 1, 1, 1, 1, 1, 1, 1, 0, 1, 0, 1, 1, 0, 0, 0, 0, 0, 1])\n",
    "y_real = np.array([1, 1, 1, 1, 1, 1, 1, 1, 0, 1, 1, 1, 0, 0, 0, 0, 0, 0, 0, 0])\n",
    "tp, tn, fp, fn = confusion_matrix(y_pred, y_real)\n",
    "print(f\"(TP, TN, FP, FN) = ({tp}, {tn}, {fp}, {fn})\")"
   ]
  },
  {
   "cell_type": "markdown",
   "id": "65f4992d",
   "metadata": {
    "deletable": false,
    "editable": false,
    "nbgrader": {
     "cell_type": "markdown",
     "checksum": "0c7987c2af26f75e6d99d2b3dbbc7719",
     "grade": false,
     "grade_id": "cell-ea0d320bf8164776",
     "locked": true,
     "schema_version": 3,
     "solution": false,
     "task": false
    }
   },
   "source": [
    "### 3.2 Accuracy, Precision, Recall, F1 계산\n",
    "- sklearn 라이브러리를 사용하지 않고, 이진분류 모델의 TP, TN, FP, FN으로부터 Accuracy, Precision, Recall, F1을 구하는 `calculate_performances` 함수를 작성하세요.\n",
    "- Accuracy, Precision, Recall은 모두 항상 양수라고 가정해도 됩니다."
   ]
  },
  {
   "cell_type": "code",
   "execution_count": null,
   "id": "1bdbe23a",
   "metadata": {
    "deletable": false,
    "nbgrader": {
     "cell_type": "code",
     "checksum": "3f2528b16310b90d31a6e2132ac8a261",
     "grade": false,
     "grade_id": "3-2",
     "locked": false,
     "schema_version": 3,
     "solution": true,
     "task": false
    }
   },
   "outputs": [],
   "source": [
    "def calculate_performances(tp, tn, fp, fn):\n",
    "    accuracy = 0\n",
    "    precision = 0\n",
    "    recall = 0\n",
    "    f1 = 0\n",
    "    \n",
    "    # YOUR CODE HERE\n",
    "    \n",
    "    \n",
    "    # YOUR CODE ENDS HERE\n",
    "    \n",
    "    return accuracy, precision, recall, f1"
   ]
  },
  {
   "cell_type": "code",
   "execution_count": null,
   "id": "f7e408e2",
   "metadata": {
    "deletable": false,
    "editable": false,
    "nbgrader": {
     "cell_type": "code",
     "checksum": "a344084251bee4504b14e3bd050970d5",
     "grade": true,
     "grade_id": "3-2_test",
     "locked": true,
     "points": 1,
     "schema_version": 3,
     "solution": false,
     "task": false
    }
   },
   "outputs": [],
   "source": [
    "accuracy, precision, recall, f1 = calculate_performances(36, 85, 58, 8)\n",
    "print(\"Accuracy:\", accuracy)\n",
    "print(\"Precision:\", precision)\n",
    "print(\"Recall:\", recall)\n",
    "print(\"F1:\", f1)"
   ]
  },
  {
   "cell_type": "markdown",
   "id": "6f0f83d7",
   "metadata": {},
   "source": [
    "---"
   ]
  },
  {
   "cell_type": "markdown",
   "id": "1a86e47a",
   "metadata": {},
   "source": [
    "# 수고하셨습니다!"
   ]
  }
 ],
 "metadata": {
  "kernelspec": {
   "display_name": "Python 3 (ipykernel)",
   "language": "python",
   "name": "python3"
  },
  "language_info": {
   "codemirror_mode": {
    "name": "ipython",
    "version": 3
   },
   "file_extension": ".py",
   "mimetype": "text/x-python",
   "name": "python",
   "nbconvert_exporter": "python",
   "pygments_lexer": "ipython3",
   "version": "3.8.9"
  }
 },
 "nbformat": 4,
 "nbformat_minor": 5
}
