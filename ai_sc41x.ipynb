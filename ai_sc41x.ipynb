{
  "cells": [
    {
      "cell_type": "markdown",
      "metadata": {
        "id": "view-in-github",
        "colab_type": "text"
      },
      "source": [
        "<a href=\"https://colab.research.google.com/github/JangJiYeon12/AI/blob/main/ai_sc41x.ipynb\" target=\"_parent\"><img src=\"https://colab.research.google.com/assets/colab-badge.svg\" alt=\"Open In Colab\"/></a>"
      ]
    },
    {
      "cell_type": "markdown",
      "metadata": {
        "id": "dVNDxiWkw5y7"
      },
      "source": [
        "<img src='https://user-images.githubusercontent.com/6457691/90080969-0f758d00-dd47-11ea-8191-fa12fd2054a7.png' width = '200' align = 'right'>\n",
        "\n",
        "## AI SC41x\n",
        "\n",
        "---\n",
        "# Sprint Challenge - 신경망(Neural Network) 기본기 다지기\n",
        "\n",
        "Table of Problems\n",
        "\n",
        "1. 신경망 정의하기 \n",
        "2. 퍼셉트론 정의\n",
        "    - 퍼셉트론(Perceptron)\n",
        "    - 다층 퍼셉트론(Multilayer Perceptron)\n",
        "    - 분석과 비교\n",
        "4. Keras 사용하기"
      ]
    },
    {
      "cell_type": "markdown",
      "metadata": {
        "id": "O9qf0cRbw5y8"
      },
      "source": [
        "<a id=\"Q1\"></a>\n",
        "## 1. 신경망 용어 정의\n",
        "### 1.1 아래에 주어진 신경망 개념에 사용 되는 용어들을 자신만의 언어로 정의해보세요\n",
        "꼭 \"자신의 언어\"로 써보시고, 정리해보고, 요약해보세요 :)"
      ]
    },
    {
      "cell_type": "markdown",
      "metadata": {
        "id": "yBlLipWWbhPQ"
      },
      "source": [
        "- **Neuron:**\n",
        "- **Input Layer:**\n",
        "- **Hidden Layer:**\n",
        "- **Output Layer:**\n",
        "- **Activation Function:**\n",
        "- **Back Propagation:**"
      ]
    },
    {
      "cell_type": "markdown",
      "metadata": {
        "id": "YdcS-Jx2w5y8"
      },
      "source": [
        "### 1.2 역전파 설명해보기\n",
        "이번에는 역전파 (Back Propagation)를 조금 더 디테일하게 설명해보겠습니다. \n",
        "<br> <b>초등학생</b>에게 설명한다는 생각으로 단어들을 선정해 주세요. <i>외부 자료나 이미지를 설명에 활용하셔도 좋습니다</i>."
      ]
    },
    {
      "cell_type": "markdown",
      "source": [
        "> 담율아, 담율이는 엄마한테 뭘 사달라고 한 적 있어?  \n",
        "> 있다면, 사달라고 떼를 쓴 적은?  \n",
        "> 떼를 쓰기 전에 무슨 생각해?  \n",
        "> 이모는 어릴 때 엄마한테 뭔갈 사달라고 하기 전에 생각하는 것들이 있었는데,  \n",
        "\n",
        "1. 내가 오늘 칭찬받을 만한 일을 했는지.\n",
        "2. 엄마 기분이 나쁘지 않은지.\n",
        "3. 지금이 너무 이르거나 늦은 시간이 아닌지.\n",
        "4. 가지고 싶은 물건이 너무 비싸진 않은지.\n",
        "5. 엄마가 싫어하는 게임과 관련된 물건인지.\n",
        "\n",
        "> 정말 많은 여러가지 생각을 거쳐서 '아, 이정도면 사줄 수도 있겠는데?' 싶을 땐 엄마한테 사달라고 졸랐었어.  \n",
        "> 담율이도 그런 것들을 생각하고 떼를 쓰지?\n",
        "> 그럴 때마다 어떤 날은 사달라던 장난감을 사주기도 하고, 어떤 날은 혼이 나기도 했을 거야. 그렇지?  \n",
        "\n",
        "> 어제는 가지고 싶은 물건이 비싸지도 않았는데 혼나기만 하고 엄마는 물건을 사주시지 않았어.  \n",
        "> 엄마가 싫어하는 게임기였기 때문이었어!  \n",
        "> 이런식으로 실패와 성공을 반복하며 담율이는 학습해 나가는거야.    \n",
        "\n",
        "> 엄마 기분이 조금 나빠도 내가 오늘 칭찬받을 만한 일을 했던게 더 중요했던 거 같아! 라고 느끼면서 **더 중요하고, 덜 중요한 것들을 체크해 나가는게 역전파야.**  \n",
        "> 그럼 이제 담율이는 다음번엔 무엇이 더 중요한지 깨달았기 때문에 성공할 확률이 더 올라가겠지?  \n",
        "\n",
        "> 아, 근데 이모는 뭐 사달라고 조른적은 사실 많이 없어!\n"
      ],
      "metadata": {
        "id": "jXxXW2hHcKqJ"
      }
    },
    {
      "cell_type": "markdown",
      "metadata": {
        "id": "W7ZSjf9Uw5y8"
      },
      "source": [
        "### 1.3 퍼셉트론 정의해보기\n",
        "신경망 수업 첫날에 들었었던 퍼셉트론의 간단한 개념으로 예측하는 과정을 설명해보세요. <br> <b>입력</b>에서 <b>출력</b>으로 어떻게 변경되는 지 단계별로 설명해보세요."
      ]
    },
    {
      "cell_type": "markdown",
      "source": [
        "> 퍼셉트론이란, 초기의 인공 신경망을 뜻한다.  \n",
        "> 다수의 입력으로부터 하나의 결과를 내보내는데, 신경 세포 뉴런의 동작 방식과 유사하다.  \n",
        "> "
      ],
      "metadata": {
        "id": "Y2bMdj-iiD6r"
      }
    },
    {
      "cell_type": "markdown",
      "source": [
        "![화면 캡처 2022-05-03 103232.jpg](data:image/jpeg;base64,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)"
      ],
      "metadata": {
        "id": "BQrhhGxti8rn"
      }
    },
    {
      "cell_type": "markdown",
      "source": [
        "> x1, x2, x3 ... 이런 **입력값**들이 w1, w2, w3 ... **가중치** 와 곱해져서 다 더해진다.  \n",
        "> 그 더해진 값이 **임계치**를 넘으면 1을, 아닐 경우엔 0을 출력한다.  "
      ],
      "metadata": {
        "id": "2PwMLnZ8jMPF"
      }
    },
    {
      "cell_type": "markdown",
      "metadata": {
        "id": "1A2h2zpCw5y8"
      },
      "source": [
        "<a id=\"Q2\"></a>\n",
        "## 2. 단순 퍼셉트론\n",
        "\n",
        "이번에는 TensorFlow, keras를 사용하여 두 개의 신경망을 직접 구축한 뒤,\n",
        "<br> 아래 임의로 제공 된 $X, y$를 이용하여 두 모델에 적용한 뒤 결과를 비교해보세요. \n",
        "먼저 사용할 데이터는 다음과 같습니다."
      ]
    },
    {
      "cell_type": "code",
      "execution_count": 2,
      "metadata": {
        "colab": {
          "base_uri": "https://localhost:8080/",
          "height": 283
        },
        "id": "TWdXFK9Yw5y8",
        "outputId": "7d8a9b5d-c0e2-46cf-cf7d-64437771e99f"
      },
      "outputs": [
        {
          "output_type": "execute_result",
          "data": {
            "text/plain": [
              "<matplotlib.collections.PathCollection at 0x7f8873742390>"
            ]
          },
          "metadata": {},
          "execution_count": 2
        },
        {
          "output_type": "display_data",
          "data": {
            "text/plain": [
              "<Figure size 432x288 with 1 Axes>"
            ],
            "image/png": "[encoded data removed]"
          },
          "metadata": {
            "needs_background": "light"
          }
        }
      ],
      "source": [
        "import numpy as np\n",
        "import matplotlib.pyplot as plt\n",
        "\n",
        "xx, yy = np.meshgrid(np.linspace(-3, 3, 50),\n",
        "                     np.linspace(-3, 3, 50))\n",
        "rng = np.random.RandomState(0)\n",
        "\n",
        "\n",
        "\"model1과 model2를 구축할 때 아래의 X & y를 사용하세요\"\n",
        "X = rng.randn(300, 2)\n",
        "y = np.array(np.logical_xor(X[:, 0] > 0, X[:, 1] > 0), \n",
        "             dtype=int)\n",
        "\n",
        "plt.scatter(X[:,0], X[:,1], s=y)\n"
      ]
    },
    {
      "cell_type": "markdown",
      "metadata": {
        "id": "xjr4UoQXw5y8"
      },
      "source": [
        "### 단순 퍼셉트론 구현\n",
        "Keras로 <b>sigmoid activation function</b>을 포함한 dense layer 1개가 있는</b> `model1`을 만들어 학습시키고 `h1`에 저장하세요."
      ]
    },
    {
      "cell_type": "code",
      "execution_count": 7,
      "metadata": {
        "colab": {
          "base_uri": "https://localhost:8080/"
        },
        "id": "vKZXIC1ew5y8",
        "outputId": "d4ad150e-3b03-48b4-fa61-d974afe861f2"
      },
      "outputs": [
        {
          "output_type": "stream",
          "name": "stdout",
          "text": [
            "Epoch 1/100\n",
            "10/10 [==============================] - 0s 2ms/step - loss: 0.8848 - accuracy: 0.5433\n",
            "Epoch 2/100\n",
            "10/10 [==============================] - 0s 3ms/step - loss: 0.8790 - accuracy: 0.5433\n",
            "Epoch 3/100\n",
            "10/10 [==============================] - 0s 2ms/step - loss: 0.8741 - accuracy: 0.5433\n",
            "Epoch 4/100\n",
            "10/10 [==============================] - 0s 2ms/step - loss: 0.8691 - accuracy: 0.5467\n",
            "Epoch 5/100\n",
            "10/10 [==============================] - 0s 2ms/step - loss: 0.8645 - accuracy: 0.5467\n",
            "Epoch 6/100\n",
            "10/10 [==============================] - 0s 2ms/step - loss: 0.8598 - accuracy: 0.5467\n",
            "Epoch 7/100\n",
            "10/10 [==============================] - 0s 2ms/step - loss: 0.8554 - accuracy: 0.5467\n",
            "Epoch 8/100\n",
            "10/10 [==============================] - 0s 2ms/step - loss: 0.8509 - accuracy: 0.5533\n",
            "Epoch 9/100\n",
            "10/10 [==============================] - 0s 2ms/step - loss: 0.8464 - accuracy: 0.5567\n",
            "Epoch 10/100\n",
            "10/10 [==============================] - 0s 2ms/step - loss: 0.8417 - accuracy: 0.5567\n",
            "Epoch 11/100\n",
            "10/10 [==============================] - 0s 2ms/step - loss: 0.8374 - accuracy: 0.5567\n",
            "Epoch 12/100\n",
            "10/10 [==============================] - 0s 2ms/step - loss: 0.8331 - accuracy: 0.5633\n",
            "Epoch 13/100\n",
            "10/10 [==============================] - 0s 2ms/step - loss: 0.8286 - accuracy: 0.5633\n",
            "Epoch 14/100\n",
            "10/10 [==============================] - 0s 2ms/step - loss: 0.8242 - accuracy: 0.5667\n",
            "Epoch 15/100\n",
            "10/10 [==============================] - 0s 2ms/step - loss: 0.8199 - accuracy: 0.5667\n",
            "Epoch 16/100\n",
            "10/10 [==============================] - 0s 2ms/step - loss: 0.8159 - accuracy: 0.5667\n",
            "Epoch 17/100\n",
            "10/10 [==============================] - 0s 2ms/step - loss: 0.8120 - accuracy: 0.5667\n",
            "Epoch 18/100\n",
            "10/10 [==============================] - 0s 2ms/step - loss: 0.8080 - accuracy: 0.5667\n",
            "Epoch 19/100\n",
            "10/10 [==============================] - 0s 2ms/step - loss: 0.8042 - accuracy: 0.5700\n",
            "Epoch 20/100\n",
            "10/10 [==============================] - 0s 2ms/step - loss: 0.8007 - accuracy: 0.5700\n",
            "Epoch 21/100\n",
            "10/10 [==============================] - 0s 2ms/step - loss: 0.7966 - accuracy: 0.5700\n",
            "Epoch 22/100\n",
            "10/10 [==============================] - 0s 2ms/step - loss: 0.7934 - accuracy: 0.5733\n",
            "Epoch 23/100\n",
            "10/10 [==============================] - 0s 2ms/step - loss: 0.7898 - accuracy: 0.5700\n",
            "Epoch 24/100\n",
            "10/10 [==============================] - 0s 2ms/step - loss: 0.7864 - accuracy: 0.5733\n",
            "Epoch 25/100\n",
            "10/10 [==============================] - 0s 2ms/step - loss: 0.7833 - accuracy: 0.5733\n",
            "Epoch 26/100\n",
            "10/10 [==============================] - 0s 2ms/step - loss: 0.7803 - accuracy: 0.5733\n",
            "Epoch 27/100\n",
            "10/10 [==============================] - 0s 2ms/step - loss: 0.7774 - accuracy: 0.5733\n",
            "Epoch 28/100\n",
            "10/10 [==============================] - 0s 2ms/step - loss: 0.7744 - accuracy: 0.5767\n",
            "Epoch 29/100\n",
            "10/10 [==============================] - 0s 2ms/step - loss: 0.7717 - accuracy: 0.5767\n",
            "Epoch 30/100\n",
            "10/10 [==============================] - 0s 2ms/step - loss: 0.7687 - accuracy: 0.5767\n",
            "Epoch 31/100\n",
            "10/10 [==============================] - 0s 2ms/step - loss: 0.7661 - accuracy: 0.5800\n",
            "Epoch 32/100\n",
            "10/10 [==============================] - 0s 2ms/step - loss: 0.7635 - accuracy: 0.5800\n",
            "Epoch 33/100\n",
            "10/10 [==============================] - 0s 2ms/step - loss: 0.7608 - accuracy: 0.5800\n",
            "Epoch 34/100\n",
            "10/10 [==============================] - 0s 2ms/step - loss: 0.7581 - accuracy: 0.5833\n",
            "Epoch 35/100\n",
            "10/10 [==============================] - 0s 2ms/step - loss: 0.7559 - accuracy: 0.5833\n",
            "Epoch 36/100\n",
            "10/10 [==============================] - 0s 2ms/step - loss: 0.7534 - accuracy: 0.5867\n",
            "Epoch 37/100\n",
            "10/10 [==============================] - 0s 2ms/step - loss: 0.7512 - accuracy: 0.5900\n",
            "Epoch 38/100\n",
            "10/10 [==============================] - 0s 2ms/step - loss: 0.7488 - accuracy: 0.5900\n",
            "Epoch 39/100\n",
            "10/10 [==============================] - 0s 2ms/step - loss: 0.7464 - accuracy: 0.5900\n",
            "Epoch 40/100\n",
            "10/10 [==============================] - 0s 3ms/step - loss: 0.7441 - accuracy: 0.5933\n",
            "Epoch 41/100\n",
            "10/10 [==============================] - 0s 3ms/step - loss: 0.7421 - accuracy: 0.5933\n",
            "Epoch 42/100\n",
            "10/10 [==============================] - 0s 2ms/step - loss: 0.7401 - accuracy: 0.5933\n",
            "Epoch 43/100\n",
            "10/10 [==============================] - 0s 2ms/step - loss: 0.7384 - accuracy: 0.5933\n",
            "Epoch 44/100\n",
            "10/10 [==============================] - 0s 2ms/step - loss: 0.7366 - accuracy: 0.6000\n",
            "Epoch 45/100\n",
            "10/10 [==============================] - 0s 2ms/step - loss: 0.7347 - accuracy: 0.6000\n",
            "Epoch 46/100\n",
            "10/10 [==============================] - 0s 2ms/step - loss: 0.7329 - accuracy: 0.6000\n",
            "Epoch 47/100\n",
            "10/10 [==============================] - 0s 2ms/step - loss: 0.7313 - accuracy: 0.6033\n",
            "Epoch 48/100\n",
            "10/10 [==============================] - 0s 2ms/step - loss: 0.7296 - accuracy: 0.6033\n",
            "Epoch 49/100\n",
            "10/10 [==============================] - 0s 2ms/step - loss: 0.7280 - accuracy: 0.6033\n",
            "Epoch 50/100\n",
            "10/10 [==============================] - 0s 2ms/step - loss: 0.7262 - accuracy: 0.6067\n",
            "Epoch 51/100\n",
            "10/10 [==============================] - 0s 2ms/step - loss: 0.7248 - accuracy: 0.6067\n",
            "Epoch 52/100\n",
            "10/10 [==============================] - 0s 2ms/step - loss: 0.7231 - accuracy: 0.6100\n",
            "Epoch 53/100\n",
            "10/10 [==============================] - 0s 2ms/step - loss: 0.7217 - accuracy: 0.6100\n",
            "Epoch 54/100\n",
            "10/10 [==============================] - 0s 2ms/step - loss: 0.7203 - accuracy: 0.6100\n",
            "Epoch 55/100\n",
            "10/10 [==============================] - 0s 2ms/step - loss: 0.7189 - accuracy: 0.6100\n",
            "Epoch 56/100\n",
            "10/10 [==============================] - 0s 2ms/step - loss: 0.7176 - accuracy: 0.6100\n",
            "Epoch 57/100\n",
            "10/10 [==============================] - 0s 2ms/step - loss: 0.7164 - accuracy: 0.6100\n",
            "Epoch 58/100\n",
            "10/10 [==============================] - 0s 2ms/step - loss: 0.7153 - accuracy: 0.6067\n",
            "Epoch 59/100\n",
            "10/10 [==============================] - 0s 2ms/step - loss: 0.7142 - accuracy: 0.6067\n",
            "Epoch 60/100\n",
            "10/10 [==============================] - 0s 2ms/step - loss: 0.7132 - accuracy: 0.6067\n",
            "Epoch 61/100\n",
            "10/10 [==============================] - 0s 2ms/step - loss: 0.7121 - accuracy: 0.6067\n",
            "Epoch 62/100\n",
            "10/10 [==============================] - 0s 2ms/step - loss: 0.7112 - accuracy: 0.6067\n",
            "Epoch 63/100\n",
            "10/10 [==============================] - 0s 2ms/step - loss: 0.7101 - accuracy: 0.6100\n",
            "Epoch 64/100\n",
            "10/10 [==============================] - 0s 2ms/step - loss: 0.7090 - accuracy: 0.6067\n",
            "Epoch 65/100\n",
            "10/10 [==============================] - 0s 2ms/step - loss: 0.7080 - accuracy: 0.6100\n",
            "Epoch 66/100\n",
            "10/10 [==============================] - 0s 2ms/step - loss: 0.7073 - accuracy: 0.6100\n",
            "Epoch 67/100\n",
            "10/10 [==============================] - 0s 2ms/step - loss: 0.7062 - accuracy: 0.6133\n",
            "Epoch 68/100\n",
            "10/10 [==============================] - 0s 2ms/step - loss: 0.7054 - accuracy: 0.6133\n",
            "Epoch 69/100\n",
            "10/10 [==============================] - 0s 3ms/step - loss: 0.7046 - accuracy: 0.6133\n",
            "Epoch 70/100\n",
            "10/10 [==============================] - 0s 2ms/step - loss: 0.7039 - accuracy: 0.6133\n",
            "Epoch 71/100\n",
            "10/10 [==============================] - 0s 2ms/step - loss: 0.7032 - accuracy: 0.6133\n",
            "Epoch 72/100\n",
            "10/10 [==============================] - 0s 2ms/step - loss: 0.7025 - accuracy: 0.6167\n",
            "Epoch 73/100\n",
            "10/10 [==============================] - 0s 2ms/step - loss: 0.7019 - accuracy: 0.6167\n",
            "Epoch 74/100\n",
            "10/10 [==============================] - 0s 2ms/step - loss: 0.7012 - accuracy: 0.6167\n",
            "Epoch 75/100\n",
            "10/10 [==============================] - 0s 2ms/step - loss: 0.7005 - accuracy: 0.6167\n",
            "Epoch 76/100\n",
            "10/10 [==============================] - 0s 2ms/step - loss: 0.7000 - accuracy: 0.6167\n",
            "Epoch 77/100\n",
            "10/10 [==============================] - 0s 2ms/step - loss: 0.6995 - accuracy: 0.6167\n",
            "Epoch 78/100\n",
            "10/10 [==============================] - 0s 2ms/step - loss: 0.6989 - accuracy: 0.6200\n",
            "Epoch 79/100\n",
            "10/10 [==============================] - 0s 2ms/step - loss: 0.6983 - accuracy: 0.6200\n",
            "Epoch 80/100\n",
            "10/10 [==============================] - 0s 2ms/step - loss: 0.6977 - accuracy: 0.6267\n",
            "Epoch 81/100\n",
            "10/10 [==============================] - 0s 2ms/step - loss: 0.6971 - accuracy: 0.6267\n",
            "Epoch 82/100\n",
            "10/10 [==============================] - 0s 2ms/step - loss: 0.6966 - accuracy: 0.6233\n",
            "Epoch 83/100\n",
            "10/10 [==============================] - 0s 2ms/step - loss: 0.6961 - accuracy: 0.6267\n",
            "Epoch 84/100\n",
            "10/10 [==============================] - 0s 2ms/step - loss: 0.6957 - accuracy: 0.6233\n",
            "Epoch 85/100\n",
            "10/10 [==============================] - 0s 2ms/step - loss: 0.6952 - accuracy: 0.6267\n",
            "Epoch 86/100\n",
            "10/10 [==============================] - 0s 2ms/step - loss: 0.6948 - accuracy: 0.6267\n",
            "Epoch 87/100\n",
            "10/10 [==============================] - 0s 2ms/step - loss: 0.6944 - accuracy: 0.6267\n",
            "Epoch 88/100\n",
            "10/10 [==============================] - 0s 2ms/step - loss: 0.6940 - accuracy: 0.6267\n",
            "Epoch 89/100\n",
            "10/10 [==============================] - 0s 2ms/step - loss: 0.6935 - accuracy: 0.6300\n",
            "Epoch 90/100\n",
            "10/10 [==============================] - 0s 2ms/step - loss: 0.6932 - accuracy: 0.6300\n",
            "Epoch 91/100\n",
            "10/10 [==============================] - 0s 2ms/step - loss: 0.6930 - accuracy: 0.6267\n",
            "Epoch 92/100\n",
            "10/10 [==============================] - 0s 2ms/step - loss: 0.6925 - accuracy: 0.6300\n",
            "Epoch 93/100\n",
            "10/10 [==============================] - 0s 2ms/step - loss: 0.6923 - accuracy: 0.6300\n",
            "Epoch 94/100\n",
            "10/10 [==============================] - 0s 2ms/step - loss: 0.6920 - accuracy: 0.6333\n",
            "Epoch 95/100\n",
            "10/10 [==============================] - 0s 2ms/step - loss: 0.6917 - accuracy: 0.6300\n",
            "Epoch 96/100\n",
            "10/10 [==============================] - 0s 3ms/step - loss: 0.6914 - accuracy: 0.6333\n",
            "Epoch 97/100\n",
            "10/10 [==============================] - 0s 2ms/step - loss: 0.6913 - accuracy: 0.6333\n",
            "Epoch 98/100\n",
            "10/10 [==============================] - 0s 2ms/step - loss: 0.6910 - accuracy: 0.6300\n",
            "Epoch 99/100\n",
            "10/10 [==============================] - 0s 2ms/step - loss: 0.6908 - accuracy: 0.6300\n",
            "Epoch 100/100\n",
            "10/10 [==============================] - 0s 2ms/step - loss: 0.6906 - accuracy: 0.6333\n"
          ]
        }
      ],
      "source": [
        "import tensorflow as tf\n",
        "\n",
        "model1 = tf.keras.models.Sequential([\n",
        "    tf.keras.layers.Dense(1, activation='sigmoid')\n",
        "])\n",
        "\n",
        "model1.compile(optimizer='sgd',\n",
        "              loss='binary_crossentropy',\n",
        "              metrics=['accuracy'])\n",
        "\n",
        "h1 = model1.fit(X, y, epochs=100)"
      ]
    },
    {
      "cell_type": "markdown",
      "metadata": {
        "id": "0Ugkziwew5y8"
      },
      "source": [
        "\n",
        "### Multi-Layer Perceptron (MLP)\n",
        "이번에는 여러층의 레이어들을 쌓은 MLP 모델을 만들어보겠습니다. 아래는 간략한 가이드입니다 :\n",
        "- 2개의 은닉층 (출력 수를 맞추는 것까지 3개의 Dense를 사용할 것은 추천)\n",
        "- 노드의 개수는 8-32개 내에서 변경해서 사용해보세요.\n",
        "- Activation function과 optimizer는 이번 주에 배운 것들 중에서 자유롭게 골라보세요.\n",
        "- 아래 만들어진 Callback function을 모델에 통합해서 사용하세요\n",
        "\n",
        "MLP로 만들어진 `model2` 를 만들어 학습하고 `h2`에 저장하세요."
      ]
    },
    {
      "cell_type": "code",
      "execution_count": 8,
      "metadata": {
        "id": "6BoIn7iBw5y8"
      },
      "outputs": [],
      "source": [
        "import tensorflow as tf\n",
        "\n",
        "class myCallback(tf.keras.callbacks.Callback): \n",
        "    def on_epoch_end(self, epoch, logs={}): \n",
        "        if(logs.get('accuracy') > .90):   \n",
        "            self.model.stop_training = True"
      ]
    },
    {
      "cell_type": "code",
      "execution_count": 9,
      "metadata": {
        "colab": {
          "base_uri": "https://localhost:8080/"
        },
        "id": "B63dciqEw5y8",
        "outputId": "79c4006d-9e32-453d-c262-60387829ac11"
      },
      "outputs": [
        {
          "output_type": "stream",
          "name": "stdout",
          "text": [
            "Epoch 1/50\n",
            "10/10 [==============================] - 0s 2ms/step - loss: 0.8389 - accuracy: 0.5167\n",
            "Epoch 2/50\n",
            "10/10 [==============================] - 0s 2ms/step - loss: 0.8294 - accuracy: 0.5267\n",
            "Epoch 3/50\n",
            "10/10 [==============================] - 0s 2ms/step - loss: 0.8206 - accuracy: 0.5300\n",
            "Epoch 4/50\n",
            "10/10 [==============================] - 0s 2ms/step - loss: 0.8123 - accuracy: 0.5367\n",
            "Epoch 5/50\n",
            "10/10 [==============================] - 0s 2ms/step - loss: 0.8043 - accuracy: 0.5400\n",
            "Epoch 6/50\n",
            "10/10 [==============================] - 0s 2ms/step - loss: 0.7962 - accuracy: 0.5500\n",
            "Epoch 7/50\n",
            "10/10 [==============================] - 0s 3ms/step - loss: 0.7890 - accuracy: 0.5533\n",
            "Epoch 8/50\n",
            "10/10 [==============================] - 0s 2ms/step - loss: 0.7824 - accuracy: 0.5600\n",
            "Epoch 9/50\n",
            "10/10 [==============================] - 0s 2ms/step - loss: 0.7754 - accuracy: 0.5600\n",
            "Epoch 10/50\n",
            "10/10 [==============================] - 0s 2ms/step - loss: 0.7689 - accuracy: 0.5600\n",
            "Epoch 11/50\n",
            "10/10 [==============================] - 0s 2ms/step - loss: 0.7625 - accuracy: 0.5600\n",
            "Epoch 12/50\n",
            "10/10 [==============================] - 0s 2ms/step - loss: 0.7567 - accuracy: 0.5567\n",
            "Epoch 13/50\n",
            "10/10 [==============================] - 0s 2ms/step - loss: 0.7508 - accuracy: 0.5567\n",
            "Epoch 14/50\n",
            "10/10 [==============================] - 0s 2ms/step - loss: 0.7452 - accuracy: 0.5733\n",
            "Epoch 15/50\n",
            "10/10 [==============================] - 0s 2ms/step - loss: 0.7400 - accuracy: 0.5733\n",
            "Epoch 16/50\n",
            "10/10 [==============================] - 0s 2ms/step - loss: 0.7351 - accuracy: 0.5767\n",
            "Epoch 17/50\n",
            "10/10 [==============================] - 0s 2ms/step - loss: 0.7303 - accuracy: 0.5800\n",
            "Epoch 18/50\n",
            "10/10 [==============================] - 0s 2ms/step - loss: 0.7253 - accuracy: 0.5800\n",
            "Epoch 19/50\n",
            "10/10 [==============================] - 0s 3ms/step - loss: 0.7209 - accuracy: 0.5800\n",
            "Epoch 20/50\n",
            "10/10 [==============================] - 0s 2ms/step - loss: 0.7164 - accuracy: 0.5867\n",
            "Epoch 21/50\n",
            "10/10 [==============================] - 0s 2ms/step - loss: 0.7121 - accuracy: 0.5933\n",
            "Epoch 22/50\n",
            "10/10 [==============================] - 0s 2ms/step - loss: 0.7077 - accuracy: 0.5933\n",
            "Epoch 23/50\n",
            "10/10 [==============================] - 0s 2ms/step - loss: 0.7039 - accuracy: 0.5933\n",
            "Epoch 24/50\n",
            "10/10 [==============================] - 0s 2ms/step - loss: 0.6995 - accuracy: 0.5933\n",
            "Epoch 25/50\n",
            "10/10 [==============================] - 0s 2ms/step - loss: 0.6958 - accuracy: 0.5967\n",
            "Epoch 26/50\n",
            "10/10 [==============================] - 0s 2ms/step - loss: 0.6921 - accuracy: 0.6067\n",
            "Epoch 27/50\n",
            "10/10 [==============================] - 0s 2ms/step - loss: 0.6887 - accuracy: 0.6167\n",
            "Epoch 28/50\n",
            "10/10 [==============================] - 0s 2ms/step - loss: 0.6851 - accuracy: 0.6167\n",
            "Epoch 29/50\n",
            "10/10 [==============================] - 0s 2ms/step - loss: 0.6818 - accuracy: 0.6167\n",
            "Epoch 30/50\n",
            "10/10 [==============================] - 0s 10ms/step - loss: 0.6783 - accuracy: 0.6200\n",
            "Epoch 31/50\n",
            "10/10 [==============================] - 0s 9ms/step - loss: 0.6752 - accuracy: 0.6200\n",
            "Epoch 32/50\n",
            "10/10 [==============================] - 0s 8ms/step - loss: 0.6721 - accuracy: 0.6200\n",
            "Epoch 33/50\n",
            "10/10 [==============================] - 0s 8ms/step - loss: 0.6689 - accuracy: 0.6300\n",
            "Epoch 34/50\n",
            "10/10 [==============================] - 0s 6ms/step - loss: 0.6659 - accuracy: 0.6400\n",
            "Epoch 35/50\n",
            "10/10 [==============================] - 0s 4ms/step - loss: 0.6631 - accuracy: 0.6467\n",
            "Epoch 36/50\n",
            "10/10 [==============================] - 0s 5ms/step - loss: 0.6602 - accuracy: 0.6567\n",
            "Epoch 37/50\n",
            "10/10 [==============================] - 0s 2ms/step - loss: 0.6577 - accuracy: 0.6533\n",
            "Epoch 38/50\n",
            "10/10 [==============================] - 0s 2ms/step - loss: 0.6548 - accuracy: 0.6700\n",
            "Epoch 39/50\n",
            "10/10 [==============================] - 0s 2ms/step - loss: 0.6520 - accuracy: 0.6800\n",
            "Epoch 40/50\n",
            "10/10 [==============================] - 0s 3ms/step - loss: 0.6497 - accuracy: 0.6800\n",
            "Epoch 41/50\n",
            "10/10 [==============================] - 0s 2ms/step - loss: 0.6471 - accuracy: 0.6800\n",
            "Epoch 42/50\n",
            "10/10 [==============================] - 0s 2ms/step - loss: 0.6448 - accuracy: 0.6800\n",
            "Epoch 43/50\n",
            "10/10 [==============================] - 0s 2ms/step - loss: 0.6425 - accuracy: 0.6900\n",
            "Epoch 44/50\n",
            "10/10 [==============================] - 0s 2ms/step - loss: 0.6402 - accuracy: 0.6933\n",
            "Epoch 45/50\n",
            "10/10 [==============================] - 0s 2ms/step - loss: 0.6381 - accuracy: 0.7000\n",
            "Epoch 46/50\n",
            "10/10 [==============================] - 0s 2ms/step - loss: 0.6363 - accuracy: 0.7000\n",
            "Epoch 47/50\n",
            "10/10 [==============================] - 0s 2ms/step - loss: 0.6344 - accuracy: 0.7000\n",
            "Epoch 48/50\n",
            "10/10 [==============================] - 0s 2ms/step - loss: 0.6321 - accuracy: 0.7033\n",
            "Epoch 49/50\n",
            "10/10 [==============================] - 0s 2ms/step - loss: 0.6303 - accuracy: 0.7100\n",
            "Epoch 50/50\n",
            "10/10 [==============================] - 0s 2ms/step - loss: 0.6282 - accuracy: 0.7100\n"
          ]
        }
      ],
      "source": [
        "model2 = tf.keras.models.Sequential()\n",
        "model2.add(tf.keras.layers.Dense(3, activation='relu'))\n",
        "model2.add(tf.keras.layers.Dense(2, activation='softmax'))\n",
        "\n",
        "model2.compile(optimizer='adam',\n",
        "              loss='sparse_categorical_crossentropy',\n",
        "              metrics=['accuracy'])\n",
        "\n",
        "h2 = model2.fit(X, y, epochs=50)"
      ]
    },
    {
      "cell_type": "markdown",
      "metadata": {
        "id": "xn2TsE76w5y8"
      },
      "source": [
        "### Analyze and Compare\n",
        "\n",
        "코드를 시작하기 전에 추가 라이브러리를 설치해야 합니다. 스프린트 과제에 사용 중인 환경에 패키지 `mlxtend`를 설치합니다. 설치코드를 직접 제작해보세요. 기존 자료들을 참고하면 쉽게 설치할 수 있을 것입니다. \n",
        "\n",
        "아래 셀은 모형의 의사결정 경계도(\"model1\" 및 \"model2\")를 생성합니다. 그림을 검토합니다."
      ]
    },
    {
      "cell_type": "code",
      "execution_count": null,
      "metadata": {
        "id": "96hsbGktVlgL"
      },
      "outputs": [],
      "source": [
        "# mlxtend 라이브러리를 설치합니다\n",
        "!pip install mlxtend"
      ]
    },
    {
      "cell_type": "code",
      "execution_count": 12,
      "metadata": {
        "colab": {
          "base_uri": "https://localhost:8080/",
          "height": 843
        },
        "id": "ox13rgjTw5y8",
        "outputId": "1144b2a0-0482-4d7b-964c-4608fbb7c65d"
      },
      "outputs": [
        {
          "output_type": "stream",
          "name": "stderr",
          "text": [
            "/usr/local/lib/python3.7/dist-packages/mlxtend/plotting/decision_regions.py:244: MatplotlibDeprecationWarning: Passing unsupported keyword arguments to axis() will raise a TypeError in 3.3.\n",
            "  ax.axis(xmin=xx.min(), xmax=xx.max(), y_min=yy.min(), y_max=yy.max())\n"
          ]
        },
        {
          "output_type": "error",
          "ename": "ValueError",
          "evalue": "ignored",
          "traceback": [
            "\u001b[0;31m---------------------------------------------------------------------------\u001b[0m",
            "\u001b[0;31mValueError\u001b[0m                                Traceback (most recent call last)",
            "\u001b[0;32m<ipython-input-12-f0aad60f5624>\u001b[0m in \u001b[0;36m<module>\u001b[0;34m()\u001b[0m\n\u001b[1;32m     18\u001b[0m \u001b[0;34m\u001b[0m\u001b[0m\n\u001b[1;32m     19\u001b[0m     \u001b[0max\u001b[0m \u001b[0;34m=\u001b[0m \u001b[0mplt\u001b[0m\u001b[0;34m.\u001b[0m\u001b[0msubplot\u001b[0m\u001b[0;34m(\u001b[0m\u001b[0;36m1\u001b[0m\u001b[0;34m,\u001b[0m\u001b[0;36m2\u001b[0m\u001b[0;34m,\u001b[0m \u001b[0mgrd\u001b[0m\u001b[0;34m)\u001b[0m\u001b[0;34m\u001b[0m\u001b[0;34m\u001b[0m\u001b[0m\n\u001b[0;32m---> 20\u001b[0;31m     \u001b[0mfig\u001b[0m \u001b[0;34m=\u001b[0m \u001b[0mplot_decision_regions\u001b[0m\u001b[0;34m(\u001b[0m\u001b[0mX\u001b[0m\u001b[0;34m=\u001b[0m\u001b[0mX\u001b[0m\u001b[0;34m,\u001b[0m \u001b[0my\u001b[0m\u001b[0;34m=\u001b[0m\u001b[0my\u001b[0m\u001b[0;34m,\u001b[0m \u001b[0mclf\u001b[0m\u001b[0;34m=\u001b[0m\u001b[0mclf\u001b[0m\u001b[0;34m,\u001b[0m \u001b[0mlegend\u001b[0m\u001b[0;34m=\u001b[0m\u001b[0;36m2\u001b[0m\u001b[0;34m)\u001b[0m\u001b[0;34m\u001b[0m\u001b[0;34m\u001b[0m\u001b[0m\n\u001b[0m\u001b[1;32m     21\u001b[0m     \u001b[0mtitle\u001b[0m \u001b[0;34m=\u001b[0m \u001b[0;34mf\"{name} with {hist.history['accuracy'][-1]:,.2f} Accuracy\"\u001b[0m\u001b[0;34m\u001b[0m\u001b[0;34m\u001b[0m\u001b[0m\n\u001b[1;32m     22\u001b[0m     \u001b[0mplt\u001b[0m\u001b[0;34m.\u001b[0m\u001b[0mtitle\u001b[0m\u001b[0;34m(\u001b[0m\u001b[0mtitle\u001b[0m\u001b[0;34m)\u001b[0m\u001b[0;34m\u001b[0m\u001b[0;34m\u001b[0m\u001b[0m\n",
            "\u001b[0;32m/usr/local/lib/python3.7/dist-packages/mlxtend/plotting/decision_regions.py\u001b[0m in \u001b[0;36mplot_decision_regions\u001b[0;34m(X, y, clf, feature_index, filler_feature_values, filler_feature_ranges, ax, X_highlight, res, legend, hide_spines, markers, colors, scatter_kwargs, contourf_kwargs, scatter_highlight_kwargs)\u001b[0m\n\u001b[1;32m    224\u001b[0m                 \u001b[0mX_predict\u001b[0m\u001b[0;34m[\u001b[0m\u001b[0;34m:\u001b[0m\u001b[0;34m,\u001b[0m \u001b[0mfeature_idx\u001b[0m\u001b[0;34m]\u001b[0m \u001b[0;34m=\u001b[0m \u001b[0mfiller_feature_values\u001b[0m\u001b[0;34m[\u001b[0m\u001b[0mfeature_idx\u001b[0m\u001b[0;34m]\u001b[0m\u001b[0;34m\u001b[0m\u001b[0;34m\u001b[0m\u001b[0m\n\u001b[1;32m    225\u001b[0m     \u001b[0mZ\u001b[0m \u001b[0;34m=\u001b[0m \u001b[0mclf\u001b[0m\u001b[0;34m.\u001b[0m\u001b[0mpredict\u001b[0m\u001b[0;34m(\u001b[0m\u001b[0mX_predict\u001b[0m\u001b[0;34m.\u001b[0m\u001b[0mastype\u001b[0m\u001b[0;34m(\u001b[0m\u001b[0mX\u001b[0m\u001b[0;34m.\u001b[0m\u001b[0mdtype\u001b[0m\u001b[0;34m)\u001b[0m\u001b[0;34m)\u001b[0m\u001b[0;34m\u001b[0m\u001b[0;34m\u001b[0m\u001b[0m\n\u001b[0;32m--> 226\u001b[0;31m     \u001b[0mZ\u001b[0m \u001b[0;34m=\u001b[0m \u001b[0mZ\u001b[0m\u001b[0;34m.\u001b[0m\u001b[0mreshape\u001b[0m\u001b[0;34m(\u001b[0m\u001b[0mxx\u001b[0m\u001b[0;34m.\u001b[0m\u001b[0mshape\u001b[0m\u001b[0;34m)\u001b[0m\u001b[0;34m\u001b[0m\u001b[0;34m\u001b[0m\u001b[0m\n\u001b[0m\u001b[1;32m    227\u001b[0m     \u001b[0;31m# Plot decisoin region\u001b[0m\u001b[0;34m\u001b[0m\u001b[0;34m\u001b[0m\u001b[0;34m\u001b[0m\u001b[0m\n\u001b[1;32m    228\u001b[0m     \u001b[0;31m# Make sure contourf_kwargs has backwards compatible defaults\u001b[0m\u001b[0;34m\u001b[0m\u001b[0;34m\u001b[0m\u001b[0;34m\u001b[0m\u001b[0m\n",
            "\u001b[0;31mValueError\u001b[0m: cannot reshape array of size 746496 into shape (432,864)"
          ]
        },
        {
          "output_type": "display_data",
          "data": {
            "text/plain": [
              "<Figure size 864x432 with 2 Axes>"
            ],
            "image/png": "[encoded data removed]"
          },
          "metadata": {
            "needs_background": "light"
          }
        }
      ],
      "source": [
        "# 이 셀의 코드는 변경하지 마세요\n",
        "\n",
        "import matplotlib.pyplot as plt\n",
        "from mlxtend.plotting import plot_decision_regions\n",
        "\n",
        "h = .02  # step size in the mesh\n",
        "\n",
        "# create a mesh to plot in\n",
        "x_min, x_max = X[:, 0].min() - .2, X[:, 0].max() + .2\n",
        "y_min, y_max = X[:, 1].min() - .2, X[:, 1].max() + .2\n",
        "xx, yy = np.meshgrid(np.arange(x_min, x_max, h),\n",
        "                     np.arange(y_min, y_max, h))\n",
        "\n",
        "fig = plt.figure(figsize=(12,6))\n",
        "\n",
        "\n",
        "for clf, hist, name, grd in zip([model1,model2], [h1, h2],['Perceptron', 'Multi-Layer Perceptron'],[1,2]):\n",
        "\n",
        "    ax = plt.subplot(1,2, grd)\n",
        "    fig = plot_decision_regions(X=X, y=y, clf=clf, legend=2)\n",
        "    title = f\"{name} with {hist.history['accuracy'][-1]:,.2f} Accuracy\"\n",
        "    plt.title(title)\n",
        "\n",
        "plt.show()"
      ]
    },
    {
      "cell_type": "markdown",
      "metadata": {
        "id": "4qBWszwMw5y8"
      },
      "source": [
        "#### 대부분의 Perceptron(\"model1\")의 정확도가 50-70% 정도로 나오실 것인데요, 왜 그것밖에 되지 않을까요? <br> 데이터 X와 레이블 y의 관계를 보다 정확하게 학습할 수 있는 다층 퍼셉트론의 구조적인 특징은 무엇일까요? (설명을 하실 때 우리가 배웠었던 특징 추출의 관점에서 설명을 해보시길 바랍니다.)"
      ]
    },
    {
      "cell_type": "markdown",
      "source": [
        "> model1은 단층 퍼셉트론이다.  \n",
        "> 단층 퍼셉트론은 XOR 게이트를 표현하지 못하는데 다층 퍼셉트론에선 AND, NAND, OR 게이트를 조합함으로서 만들 수 있다.  \n",
        "> 이렇게 층을 깊게 늘려가면 다양한 것들을 표현할 수 있게 되는데, model1과 같은 단층 퍼셉트론은 층이 1개이니 한계가 뚜렷할 수 밖에 없는 이유이다.  \n",
        "\n",
        "> 다층 퍼셉트론은 학습에 의해 자동적으로 데이터로 부터 특징을 추출한다.  \n",
        "> 사람의 직관에 따른 한계가 없어서 종단간(end-to-end) 최적화된 학습이 가능하다.\n"
      ],
      "metadata": {
        "id": "nc1bTaYStQXU"
      }
    },
    {
      "cell_type": "markdown",
      "metadata": {
        "id": "FYEPmr-_w5y8"
      },
      "source": [
        "## 3. Keras MLP 튜닝\n",
        "\n",
        "이번에는 Keras 라이브러리를 사용하여 선택한 MultiLayer Perceptron(MLP) 아키텍처를 구현해보겠습니다. 극히 단순한 모델부터 복잡한 모델까지 만들어 보실 수 있습니다. 모델을 학습하고 정확도를 구해보세요. \n",
        "<br> 그런 다음 최소 <b>두 개</b>의 파라미터를 튜닝한 후에 다시 모형의 정확도를 구해보고 이전 모델과 비교해보세요. \n",
        "<br> 아래 Cell에서 심장병 데이터 세트를 불러 온 후 이진 분류 모델 (binary classification model) 을 만들어 보세요. 이진 분류 작업에 적절한 손실 함수를 사용하고, 신경망의 마지막 계층에서 적절한 출력값과 활성화 함수를 사용합니다. \n",
        "<br> 세부적인 출력을 사용하여 빠르게 수렴할 수 있도록 모델을 학습해보는 것도 중요합니다. GridSearchCV 또는 RandomSearchCV를 사용하여 모델을 하이퍼 파라미터들을 튜닝해봅니다. (최소 두 개의 하이퍼 파라미터를 튜닝해봅니다) 하이퍼 파라미터 튜닝 시 새로운 각 실험에 대해 코드 셀을 추가하여 작업하는 방법을 배워보았는데, 그대로 이용하지 말고 변형을 해서 보여주고 싶은 내용을 정리해서 보여주세요.  \n",
        "<br> 테스트할 때 하이퍼 파라미터의 각 조합에 대한 정확도를 보고하여 가장 높은 정확도를 얻을 수 있는 결과를 쉽게 확인할 수 있도록 합니다. \n",
        "<br> 이 SC에서 **3점**을 얻으려면 **최소 3개의 파라미터**를 조정해야 합니다.\n",
        "\n",
        "- BatchNormalization을 레이어에 추가하면 성능이 많이 오를 수 있습니다. \n",
        "- 하지만 BatchNormalization을 사용하기 위해서는 Batch_size 옵션을 추가해야 합니다."
      ]
    },
    {
      "cell_type": "code",
      "execution_count": 13,
      "metadata": {
        "colab": {
          "base_uri": "https://localhost:8080/",
          "height": 225
        },
        "id": "F35sgQ7Cw5y8",
        "inputHidden": false,
        "jupyter": {
          "outputs_hidden": false
        },
        "outputHidden": false,
        "outputId": "79403bbb-07f6-40a6-c229-8fa6f54691c9"
      },
      "outputs": [
        {
          "output_type": "stream",
          "name": "stdout",
          "text": [
            "(303, 14)\n"
          ]
        },
        {
          "output_type": "execute_result",
          "data": {
            "text/plain": [
              "     age  sex  cp  trestbps  chol  fbs  restecg  thalach  exang  oldpeak  \\\n",
              "91    57    1   0       132   207    0        1      168      1      0.0   \n",
              "293   67    1   2       152   212    0        0      150      0      0.8   \n",
              "107   45    0   0       138   236    0        0      152      1      0.2   \n",
              "98    43    1   2       130   315    0        1      162      0      1.9   \n",
              "74    43    0   2       122   213    0        1      165      0      0.2   \n",
              "\n",
              "     slope  ca  thal  target  \n",
              "91       2   0     3       1  \n",
              "293      1   0     3       0  \n",
              "107      1   0     2       1  \n",
              "98       2   1     2       1  \n",
              "74       1   0     2       1  "
            ],
            "text/html": [
              "\n",
              "  <div id=\"df-4932e12a-16b8-4f2b-b9ba-9dd0c417c3aa\">\n",
              "    <div class=\"colab-df-container\">\n",
              "      <div>\n",
              "<style scoped>\n",
              "    .dataframe tbody tr th:only-of-type {\n",
              "        vertical-align: middle;\n",
              "    }\n",
              "\n",
              "    .dataframe tbody tr th {\n",
              "        vertical-align: top;\n",
              "    }\n",
              "\n",
              "    .dataframe thead th {\n",
              "        text-align: right;\n",
              "    }\n",
              "</style>\n",
              "<table border=\"1\" class=\"dataframe\">\n",
              "  <thead>\n",
              "    <tr style=\"text-align: right;\">\n",
              "      <th></th>\n",
              "      <th>age</th>\n",
              "      <th>sex</th>\n",
              "      <th>cp</th>\n",
              "      <th>trestbps</th>\n",
              "      <th>chol</th>\n",
              "      <th>fbs</th>\n",
              "      <th>restecg</th>\n",
              "      <th>thalach</th>\n",
              "      <th>exang</th>\n",
              "      <th>oldpeak</th>\n",
              "      <th>slope</th>\n",
              "      <th>ca</th>\n",
              "      <th>thal</th>\n",
              "      <th>target</th>\n",
              "    </tr>\n",
              "  </thead>\n",
              "  <tbody>\n",
              "    <tr>\n",
              "      <th>91</th>\n",
              "      <td>57</td>\n",
              "      <td>1</td>\n",
              "      <td>0</td>\n",
              "      <td>132</td>\n",
              "      <td>207</td>\n",
              "      <td>0</td>\n",
              "      <td>1</td>\n",
              "      <td>168</td>\n",
              "      <td>1</td>\n",
              "      <td>0.0</td>\n",
              "      <td>2</td>\n",
              "      <td>0</td>\n",
              "      <td>3</td>\n",
              "      <td>1</td>\n",
              "    </tr>\n",
              "    <tr>\n",
              "      <th>293</th>\n",
              "      <td>67</td>\n",
              "      <td>1</td>\n",
              "      <td>2</td>\n",
              "      <td>152</td>\n",
              "      <td>212</td>\n",
              "      <td>0</td>\n",
              "      <td>0</td>\n",
              "      <td>150</td>\n",
              "      <td>0</td>\n",
              "      <td>0.8</td>\n",
              "      <td>1</td>\n",
              "      <td>0</td>\n",
              "      <td>3</td>\n",
              "      <td>0</td>\n",
              "    </tr>\n",
              "    <tr>\n",
              "      <th>107</th>\n",
              "      <td>45</td>\n",
              "      <td>0</td>\n",
              "      <td>0</td>\n",
              "      <td>138</td>\n",
              "      <td>236</td>\n",
              "      <td>0</td>\n",
              "      <td>0</td>\n",
              "      <td>152</td>\n",
              "      <td>1</td>\n",
              "      <td>0.2</td>\n",
              "      <td>1</td>\n",
              "      <td>0</td>\n",
              "      <td>2</td>\n",
              "      <td>1</td>\n",
              "    </tr>\n",
              "    <tr>\n",
              "      <th>98</th>\n",
              "      <td>43</td>\n",
              "      <td>1</td>\n",
              "      <td>2</td>\n",
              "      <td>130</td>\n",
              "      <td>315</td>\n",
              "      <td>0</td>\n",
              "      <td>1</td>\n",
              "      <td>162</td>\n",
              "      <td>0</td>\n",
              "      <td>1.9</td>\n",
              "      <td>2</td>\n",
              "      <td>1</td>\n",
              "      <td>2</td>\n",
              "      <td>1</td>\n",
              "    </tr>\n",
              "    <tr>\n",
              "      <th>74</th>\n",
              "      <td>43</td>\n",
              "      <td>0</td>\n",
              "      <td>2</td>\n",
              "      <td>122</td>\n",
              "      <td>213</td>\n",
              "      <td>0</td>\n",
              "      <td>1</td>\n",
              "      <td>165</td>\n",
              "      <td>0</td>\n",
              "      <td>0.2</td>\n",
              "      <td>1</td>\n",
              "      <td>0</td>\n",
              "      <td>2</td>\n",
              "      <td>1</td>\n",
              "    </tr>\n",
              "  </tbody>\n",
              "</table>\n",
              "</div>\n",
              "      <button class=\"colab-df-convert\" onclick=\"convertToInteractive('df-4932e12a-16b8-4f2b-b9ba-9dd0c417c3aa')\"\n",
              "              title=\"Convert this dataframe to an interactive table.\"\n",
              "              style=\"display:none;\">\n",
              "        \n",
              "  <svg xmlns=\"http://www.w3.org/2000/svg\" height=\"24px\"viewBox=\"0 0 24 24\"\n",
              "       width=\"24px\">\n",
              "    <path d=\"M0 0h24v24H0V0z\" fill=\"none\"/>\n",
              "    <path d=\"M18.56 5.44l.94 2.06.94-2.06 2.06-.94-2.06-.94-.94-2.06-.94 2.06-2.06.94zm-11 1L8.5 8.5l.94-2.06 2.06-.94-2.06-.94L8.5 2.5l-.94 2.06-2.06.94zm10 10l.94 2.06.94-2.06 2.06-.94-2.06-.94-.94-2.06-.94 2.06-2.06.94z\"/><path d=\"M17.41 7.96l-1.37-1.37c-.4-.4-.92-.59-1.43-.59-.52 0-1.04.2-1.43.59L10.3 9.45l-7.72 7.72c-.78.78-.78 2.05 0 2.83L4 21.41c.39.39.9.59 1.41.59.51 0 1.02-.2 1.41-.59l7.78-7.78 2.81-2.81c.8-.78.8-2.07 0-2.86zM5.41 20L4 18.59l7.72-7.72 1.47 1.35L5.41 20z\"/>\n",
              "  </svg>\n",
              "      </button>\n",
              "      \n",
              "  <style>\n",
              "    .colab-df-container {\n",
              "      display:flex;\n",
              "      flex-wrap:wrap;\n",
              "      gap: 12px;\n",
              "    }\n",
              "\n",
              "    .colab-df-convert {\n",
              "      background-color: #E8F0FE;\n",
              "      border: none;\n",
              "      border-radius: 50%;\n",
              "      cursor: pointer;\n",
              "      display: none;\n",
              "      fill: #1967D2;\n",
              "      height: 32px;\n",
              "      padding: 0 0 0 0;\n",
              "      width: 32px;\n",
              "    }\n",
              "\n",
              "    .colab-df-convert:hover {\n",
              "      background-color: #E2EBFA;\n",
              "      box-shadow: 0px 1px 2px rgba(60, 64, 67, 0.3), 0px 1px 3px 1px rgba(60, 64, 67, 0.15);\n",
              "      fill: #174EA6;\n",
              "    }\n",
              "\n",
              "    [theme=dark] .colab-df-convert {\n",
              "      background-color: #3B4455;\n",
              "      fill: #D2E3FC;\n",
              "    }\n",
              "\n",
              "    [theme=dark] .colab-df-convert:hover {\n",
              "      background-color: #434B5C;\n",
              "      box-shadow: 0px 1px 3px 1px rgba(0, 0, 0, 0.15);\n",
              "      filter: drop-shadow(0px 1px 2px rgba(0, 0, 0, 0.3));\n",
              "      fill: #FFFFFF;\n",
              "    }\n",
              "  </style>\n",
              "\n",
              "      <script>\n",
              "        const buttonEl =\n",
              "          document.querySelector('#df-4932e12a-16b8-4f2b-b9ba-9dd0c417c3aa button.colab-df-convert');\n",
              "        buttonEl.style.display =\n",
              "          google.colab.kernel.accessAllowed ? 'block' : 'none';\n",
              "\n",
              "        async function convertToInteractive(key) {\n",
              "          const element = document.querySelector('#df-4932e12a-16b8-4f2b-b9ba-9dd0c417c3aa');\n",
              "          const dataTable =\n",
              "            await google.colab.kernel.invokeFunction('convertToInteractive',\n",
              "                                                     [key], {});\n",
              "          if (!dataTable) return;\n",
              "\n",
              "          const docLinkHtml = 'Like what you see? Visit the ' +\n",
              "            '<a target=\"_blank\" href=https://colab.research.google.com/notebooks/data_table.ipynb>data table notebook</a>'\n",
              "            + ' to learn more about interactive tables.';\n",
              "          element.innerHTML = '';\n",
              "          dataTable['output_type'] = 'display_data';\n",
              "          await google.colab.output.renderOutput(dataTable, element);\n",
              "          const docLink = document.createElement('div');\n",
              "          docLink.innerHTML = docLinkHtml;\n",
              "          element.appendChild(docLink);\n",
              "        }\n",
              "      </script>\n",
              "    </div>\n",
              "  </div>\n",
              "  "
            ]
          },
          "metadata": {},
          "execution_count": 13
        }
      ],
      "source": [
        "import pandas as pd\n",
        "from sklearn.preprocessing import StandardScaler\n",
        "\n",
        "df = pd.read_csv('https://ds-lecture-data.s3.ap-northeast-2.amazonaws.com/datasets/heart.csv')\n",
        "df = df.sample(frac=1)\n",
        "print(df.shape)\n",
        "df.head()\n"
      ]
    },
    {
      "cell_type": "code",
      "execution_count": null,
      "metadata": {
        "colab": {
          "base_uri": "https://localhost:8080/"
        },
        "id": "mDeM_1iEw5y9",
        "outputId": "8ab3314a-a819-4266-fb35-79bea646afb9"
      },
      "outputs": [
        {
          "name": "stdout",
          "output_type": "stream",
          "text": [
            "     age  sex  cp  trestbps  chol  ...  exang  oldpeak  slope  ca  thal\n",
            "212   39    1   0       118   219  ...      0      1.2      1   0     3\n",
            "46    44    1   2       140   235  ...      0      0.0      2   0     2\n",
            "217   63    1   0       130   330  ...      1      1.8      2   3     3\n",
            "93    54    0   1       132   288  ...      1      0.0      2   1     2\n",
            "39    65    0   2       160   360  ...      0      0.8      2   0     2\n",
            "\n",
            "[5 rows x 13 columns]\n",
            "212    0\n",
            "46     1\n",
            "217    0\n",
            "93     1\n",
            "39     1\n",
            "Name: target, dtype: int64\n"
          ]
        }
      ],
      "source": [
        "# 이 곳에 답안을 작성하시기 바랍니다"
      ]
    },
    {
      "cell_type": "code",
      "source": [
        "from tensorflow.keras.models import Sequential\n",
        "from tensorflow.keras.layers import Dense\n",
        "\n",
        "model_1 = Sequential()\n",
        "model_1.add(Dense(64, activation='relu'))\n",
        "model_1.add(Dense(1))\n",
        "\n",
        "model_1.compile(loss='mean_squared_logarithmic_error',\n",
        "              optimizer='adam',\n",
        "              metrics=['accuracy'])\n",
        "\n",
        "model_1.fit(X, y, epochs=10)"
      ],
      "metadata": {
        "colab": {
          "base_uri": "https://localhost:8080/"
        },
        "id": "9MbtoJUKvpGQ",
        "outputId": "2718e85b-19c5-406d-9af2-8cfc02e48dd3"
      },
      "execution_count": 15,
      "outputs": [
        {
          "output_type": "stream",
          "name": "stdout",
          "text": [
            "Epoch 1/10\n",
            "10/10 [==============================] - 0s 2ms/step - loss: 0.2178 - accuracy: 0.5267\n",
            "Epoch 2/10\n",
            "10/10 [==============================] - 0s 2ms/step - loss: 0.1934 - accuracy: 0.5267\n",
            "Epoch 3/10\n",
            "10/10 [==============================] - 0s 2ms/step - loss: 0.1777 - accuracy: 0.5433\n",
            "Epoch 4/10\n",
            "10/10 [==============================] - 0s 2ms/step - loss: 0.1681 - accuracy: 0.5767\n",
            "Epoch 5/10\n",
            "10/10 [==============================] - 0s 2ms/step - loss: 0.1619 - accuracy: 0.6067\n",
            "Epoch 6/10\n",
            "10/10 [==============================] - 0s 2ms/step - loss: 0.1577 - accuracy: 0.6233\n",
            "Epoch 7/10\n",
            "10/10 [==============================] - 0s 2ms/step - loss: 0.1541 - accuracy: 0.6433\n",
            "Epoch 8/10\n",
            "10/10 [==============================] - 0s 2ms/step - loss: 0.1515 - accuracy: 0.6500\n",
            "Epoch 9/10\n",
            "10/10 [==============================] - 0s 2ms/step - loss: 0.1494 - accuracy: 0.6533\n",
            "Epoch 10/10\n",
            "10/10 [==============================] - 0s 3ms/step - loss: 0.1477 - accuracy: 0.6700\n"
          ]
        },
        {
          "output_type": "execute_result",
          "data": {
            "text/plain": [
              "<keras.callbacks.History at 0x7f88777cbc50>"
            ]
          },
          "metadata": {},
          "execution_count": 15
        }
      ]
    },
    {
      "cell_type": "code",
      "execution_count": null,
      "metadata": {
        "colab": {
          "base_uri": "https://localhost:8080/"
        },
        "id": "xUDHLAhId4W8",
        "outputId": "16c052e3-7507-40ea-df42-e095f5cc364c"
      },
      "outputs": [
        {
          "name": "stdout",
          "output_type": "stream",
          "text": [
            "Epoch 1/200\n",
            "8/8 [==============================] - 0s 18ms/step - loss: 0.4335 - accuracy: 0.7833 - val_loss: 0.2423 - val_accuracy: 0.9667\n",
            "Epoch 2/200\n",
            "8/8 [==============================] - 0s 4ms/step - loss: 0.1616 - accuracy: 0.9583 - val_loss: 0.1773 - val_accuracy: 0.9500\n",
            "Epoch 3/200\n",
            "8/8 [==============================] - 0s 4ms/step - loss: 0.1419 - accuracy: 0.9417 - val_loss: 0.1302 - val_accuracy: 0.9667\n",
            "Epoch 4/200\n",
            "8/8 [==============================] - 0s 4ms/step - loss: 0.1753 - accuracy: 0.9292 - val_loss: 0.1447 - val_accuracy: 0.9167\n",
            "Epoch 5/200\n",
            "8/8 [==============================] - 0s 4ms/step - loss: 0.1736 - accuracy: 0.9208 - val_loss: 0.1426 - val_accuracy: 0.9833\n",
            "Epoch 6/200\n",
            "8/8 [==============================] - 0s 4ms/step - loss: 0.1953 - accuracy: 0.9375 - val_loss: 0.1006 - val_accuracy: 1.0000\n",
            "Epoch 7/200\n",
            "8/8 [==============================] - 0s 4ms/step - loss: 0.1099 - accuracy: 0.9583 - val_loss: 0.1043 - val_accuracy: 0.9667\n",
            "Epoch 8/200\n",
            "8/8 [==============================] - 0s 3ms/step - loss: 0.1404 - accuracy: 0.9542 - val_loss: 0.0910 - val_accuracy: 0.9833\n",
            "Epoch 9/200\n",
            "8/8 [==============================] - 0s 4ms/step - loss: 0.2184 - accuracy: 0.9250 - val_loss: 0.1396 - val_accuracy: 0.9667\n",
            "Epoch 10/200\n",
            "8/8 [==============================] - 0s 4ms/step - loss: 0.0926 - accuracy: 0.9750 - val_loss: 0.1287 - val_accuracy: 0.9833\n",
            "Epoch 11/200\n",
            "8/8 [==============================] - 0s 4ms/step - loss: 0.1615 - accuracy: 0.9292 - val_loss: 0.0836 - val_accuracy: 0.9833\n",
            "Epoch 12/200\n",
            "8/8 [==============================] - 0s 4ms/step - loss: 0.1524 - accuracy: 0.9292 - val_loss: 0.0852 - val_accuracy: 1.0000\n",
            "Epoch 13/200\n",
            "8/8 [==============================] - 0s 4ms/step - loss: 0.1236 - accuracy: 0.9542 - val_loss: 0.0894 - val_accuracy: 0.9833\n",
            "Epoch 14/200\n",
            "8/8 [==============================] - 0s 4ms/step - loss: 0.1270 - accuracy: 0.9542 - val_loss: 0.1026 - val_accuracy: 0.9667\n",
            "Epoch 15/200\n",
            "8/8 [==============================] - 0s 4ms/step - loss: 0.1172 - accuracy: 0.9583 - val_loss: 0.0851 - val_accuracy: 0.9833\n",
            "Epoch 16/200\n",
            "8/8 [==============================] - 0s 3ms/step - loss: 0.1418 - accuracy: 0.9458 - val_loss: 0.0945 - val_accuracy: 0.9667\n",
            "Epoch 17/200\n",
            "8/8 [==============================] - 0s 4ms/step - loss: 0.1451 - accuracy: 0.9542 - val_loss: 0.1055 - val_accuracy: 0.9833\n",
            "Epoch 18/200\n",
            "8/8 [==============================] - 0s 4ms/step - loss: 0.0957 - accuracy: 0.9625 - val_loss: 0.1003 - val_accuracy: 0.9667\n",
            "Epoch 19/200\n",
            "8/8 [==============================] - 0s 4ms/step - loss: 0.1246 - accuracy: 0.9500 - val_loss: 0.0714 - val_accuracy: 1.0000\n",
            "Epoch 20/200\n",
            "8/8 [==============================] - 0s 3ms/step - loss: 0.0918 - accuracy: 0.9500 - val_loss: 0.0796 - val_accuracy: 0.9833\n",
            "Epoch 21/200\n",
            "8/8 [==============================] - 0s 4ms/step - loss: 0.0940 - accuracy: 0.9625 - val_loss: 0.0764 - val_accuracy: 0.9833\n",
            "Epoch 00021: early stopping\n"
          ]
        }
      ],
      "source": [
        "tuner = kt.RandomSearch(model_builder,\n",
        "                     objective = 'val_accuracy',\n",
        "                     max_trials =  10,\n",
        "                     directory = 'my_dir_2',\n",
        "                     project_name = 'intro_to_kt_2')\n",
        "\n",
        "\n",
        "class ClearTrainingOutput(tf.keras.callbacks.Callback):\n",
        "    def on_train_end(*args, **kwargs):\n",
        "        IPython.display.clear_output(wait=True)\n",
        "        \n",
        "#하이퍼파라미터 탐색\n",
        "\n",
        "tuner.search(X_train, y_train, epochs = 10, validation_data = (X_test, y_test), callbacks = [ClearTrainingOutput()])"
      ]
    }
  ],
  "metadata": {
    "colab": {
      "name": "ai-sc41x.ipynb",
      "provenance": [],
      "include_colab_link": true
    },
    "kernelspec": {
      "display_name": "Python 3",
      "language": "python",
      "name": "python3"
    },
    "language_info": {
      "codemirror_mode": {
        "name": "ipython",
        "version": 3
      },
      "file_extension": ".py",
      "mimetype": "text/x-python",
      "name": "python",
      "nbconvert_exporter": "python",
      "pygments_lexer": "ipython3",
      "version": "3.9.4"
    },
    "nteract": {
      "version": "0.23.3"
    }
  },
  "nbformat": 4,
  "nbformat_minor": 0
}